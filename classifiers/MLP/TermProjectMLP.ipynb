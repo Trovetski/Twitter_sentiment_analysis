{
  "nbformat": 4,
  "nbformat_minor": 0,
  "metadata": {
    "colab": {
      "name": "TermProjectMLP.ipynb",
      "provenance": [],
      "collapsed_sections": []
    },
    "kernelspec": {
      "display_name": "Python 3",
      "name": "python3"
    },
    "language_info": {
      "name": "python"
    }
  },
  "cells": [
    {
      "cell_type": "code",
      "metadata": {
        "id": "kwc2Wk1TiRkJ"
      },
      "source": [
        "#All the imports for our code\n",
        "import pandas as pd\n",
        "import numpy as np\n",
        "import tensorflow as tf\n",
        "\n",
        "from sklearn.neural_network import MLPClassifier\n",
        "from sklearn.model_selection import train_test_split\n",
        "from sklearn.feature_extraction.text import TfidfVectorizer\n",
        "from sklearn.metrics import accuracy_score"
      ],
      "execution_count": 1,
      "outputs": []
    },
    {
      "cell_type": "code",
      "metadata": {
        "colab": {
          "base_uri": "https://localhost:8080/",
          "height": 195
        },
        "id": "dngmhFiIiiL3",
        "outputId": "e7771965-e690-4915-818c-f08390c4a1f2"
      },
      "source": [
        "#reading the data\n",
        "path = '/content/drive/MyDrive/data1.csv'\n",
        "df = pd.read_csv(path)\n",
        "df.drop(['Unnamed: 0'], axis=1,inplace=True)\n",
        "df.head()"
      ],
      "execution_count": 2,
      "outputs": [
        {
          "output_type": "execute_result",
          "data": {
            "text/html": [
              "<div>\n",
              "<style scoped>\n",
              "    .dataframe tbody tr th:only-of-type {\n",
              "        vertical-align: middle;\n",
              "    }\n",
              "\n",
              "    .dataframe tbody tr th {\n",
              "        vertical-align: top;\n",
              "    }\n",
              "\n",
              "    .dataframe thead th {\n",
              "        text-align: right;\n",
              "    }\n",
              "</style>\n",
              "<table border=\"1\" class=\"dataframe\">\n",
              "  <thead>\n",
              "    <tr style=\"text-align: right;\">\n",
              "      <th></th>\n",
              "      <th>score</th>\n",
              "      <th>tweet</th>\n",
              "    </tr>\n",
              "  </thead>\n",
              "  <tbody>\n",
              "    <tr>\n",
              "      <th>0</th>\n",
              "      <td>0</td>\n",
              "      <td>cute that bummer shoulda got david carr third day</td>\n",
              "    </tr>\n",
              "    <tr>\n",
              "      <th>1</th>\n",
              "      <td>0</td>\n",
              "      <td>upset cant updat facebook text might cri resul...</td>\n",
              "    </tr>\n",
              "    <tr>\n",
              "      <th>2</th>\n",
              "      <td>0</td>\n",
              "      <td>dive mani time ball manag save rest go bound</td>\n",
              "    </tr>\n",
              "    <tr>\n",
              "      <th>3</th>\n",
              "      <td>0</td>\n",
              "      <td>whole bodi feel itchi like fire</td>\n",
              "    </tr>\n",
              "    <tr>\n",
              "      <th>4</th>\n",
              "      <td>0</td>\n",
              "      <td>behav im mad cant see</td>\n",
              "    </tr>\n",
              "  </tbody>\n",
              "</table>\n",
              "</div>"
            ],
            "text/plain": [
              "   score                                              tweet\n",
              "0      0  cute that bummer shoulda got david carr third day\n",
              "1      0  upset cant updat facebook text might cri resul...\n",
              "2      0       dive mani time ball manag save rest go bound\n",
              "3      0                    whole bodi feel itchi like fire\n",
              "4      0                              behav im mad cant see"
            ]
          },
          "metadata": {
            "tags": []
          },
          "execution_count": 2
        }
      ]
    },
    {
      "cell_type": "code",
      "metadata": {
        "id": "3Zs66-FxbBK_"
      },
      "source": [
        "df.dropna(inplace=True)#droping null rows\n"
      ],
      "execution_count": 3,
      "outputs": []
    },
    {
      "cell_type": "markdown",
      "metadata": {
        "id": "piYPEX-6i_tJ"
      },
      "source": [
        "Making a Tfidf vectorizer"
      ]
    },
    {
      "cell_type": "code",
      "metadata": {
        "id": "Vth2CXHlenyQ"
      },
      "source": [
        "df0 = df.sample(frac=0.01,random_state=101)#Tdif vector of 10% of database at 10k features\n",
        "X = df0.tweet.values\n",
        "Y = df0.score.values/4\n",
        "\n",
        "vector = TfidfVectorizer(max_features=1000,lowercase=False,stop_words='english')\n",
        "X = vector.fit_transform(X)\n",
        "\n",
        "X_train, X_test, y_train, y_test = train_test_split(X, Y, test_size=0.2, random_state=42)"
      ],
      "execution_count": 4,
      "outputs": []
    },
    {
      "cell_type": "markdown",
      "metadata": {
        "id": "sGvYbxnQjwLO"
      },
      "source": [
        "Multi-Layer perceptron"
      ]
    },
    {
      "cell_type": "code",
      "metadata": {
        "id": "DRn7fwfbj0lU"
      },
      "source": [
        "clf = MLPClassifier(hidden_layer_sizes=(400),learning_rate_init=0.002, momentum=0.87,max_iter=500)#best performing model"
      ],
      "execution_count": 5,
      "outputs": []
    },
    {
      "cell_type": "code",
      "metadata": {
        "colab": {
          "base_uri": "https://localhost:8080/"
        },
        "id": "9_x9sPt-DgB2",
        "outputId": "3e0bdd3d-8bfd-48d9-8afc-3ae21b555f57"
      },
      "source": [
        "clf.fit(X_train, y_train)\n",
        "\n",
        "acc_train = accuracy_score(y_train, clf.predict(X_train))\n",
        "acc_test = accuracy_score(y_test, clf.predict(X_test))\n",
        "\n",
        "print(\"Accuracy on training set: \"+str(acc_train))\n",
        "print(\"Accuracy on testing set: \"+str(acc_test))\n"
      ],
      "execution_count": 6,
      "outputs": [
        {
          "output_type": "stream",
          "text": [
            "Accuracy on training set: 0.9666980835689601\n",
            "Accuracy on testing set: 0.7046811184417217\n"
          ],
          "name": "stdout"
        }
      ]
    },
    {
      "cell_type": "markdown",
      "metadata": {
        "id": "pS8ARbEGcy_5"
      },
      "source": [
        "Using FS"
      ]
    },
    {
      "cell_type": "markdown",
      "metadata": {
        "id": "u6g50mewWc6Q"
      },
      "source": [
        "Here, we used VarianceThreshold to filter features as we want only the best features and we also want to reduce the calculation cost.\n",
        "\n",
        "As even at threshold = 0.00001 we have 18000-19000 featuers and they are only repeating only one or two times. It gets worse as we increase the sample size.\n",
        "\n",
        "Our goal was to select best 5500 - 7500 features for the current sample."
      ]
    },
    {
      "cell_type": "code",
      "metadata": {
        "id": "BTyKNMqlWc6Q",
        "colab": {
          "base_uri": "https://localhost:8080/"
        },
        "outputId": "36360595-0963-432d-ce3b-f3878bca9e5e"
      },
      "source": [
        "from sklearn.feature_selection import VarianceThreshold\n",
        "constant_filter = VarianceThreshold(threshold=0)\n",
        "constant_filter.fit(X)"
      ],
      "execution_count": null,
      "outputs": [
        {
          "output_type": "execute_result",
          "data": {
            "text/plain": [
              "VarianceThreshold(threshold=0)"
            ]
          },
          "metadata": {
            "tags": []
          },
          "execution_count": 7
        }
      ]
    },
    {
      "cell_type": "code",
      "metadata": {
        "id": "cMQz6UcvWc6Q",
        "colab": {
          "base_uri": "https://localhost:8080/"
        },
        "outputId": "15388cce-4ca0-421d-8dd6-2364f4d93668"
      },
      "source": [
        "constant_filter.get_support().sum()"
      ],
      "execution_count": null,
      "outputs": [
        {
          "output_type": "execute_result",
          "data": {
            "text/plain": [
              "23693"
            ]
          },
          "metadata": {
            "tags": []
          },
          "execution_count": 8
        }
      ]
    },
    {
      "cell_type": "code",
      "metadata": {
        "id": "4J_OBX1AWc6R",
        "colab": {
          "base_uri": "https://localhost:8080/"
        },
        "outputId": "1a7c52a5-8007-4562-fe2b-cc11bbec59c5"
      },
      "source": [
        "Quasi_fil = VarianceThreshold(threshold=0.0000232)\n",
        "Quasi_fil.fit(X)"
      ],
      "execution_count": null,
      "outputs": [
        {
          "output_type": "execute_result",
          "data": {
            "text/plain": [
              "VarianceThreshold(threshold=2.32e-05)"
            ]
          },
          "metadata": {
            "tags": []
          },
          "execution_count": 9
        }
      ]
    },
    {
      "cell_type": "code",
      "metadata": {
        "id": "xpvxXsIHWc6R",
        "colab": {
          "base_uri": "https://localhost:8080/"
        },
        "outputId": "69fbde96-f8ea-4b03-a4ab-730e791a6bca"
      },
      "source": [
        "Quasi_fil.get_support().sum()"
      ],
      "execution_count": null,
      "outputs": [
        {
          "output_type": "execute_result",
          "data": {
            "text/plain": [
              "5710"
            ]
          },
          "metadata": {
            "tags": []
          },
          "execution_count": 10
        }
      ]
    },
    {
      "cell_type": "code",
      "metadata": {
        "id": "0RFmbcj6Wc6S"
      },
      "source": [
        "filtered_x_prc = Quasi_fil.transform(X)"
      ],
      "execution_count": null,
      "outputs": []
    },
    {
      "cell_type": "markdown",
      "metadata": {
        "id": "k3xnmUeBWc6S"
      },
      "source": [
        "Now after doing all that we finally changed our values to an array. It is the most ram consuming part. From this we saw that sample size = 30000 - 50000 is the best."
      ]
    },
    {
      "cell_type": "code",
      "metadata": {
        "id": "S42V-pgkWc6T"
      },
      "source": [
        "x_practice = filtered_x_prc.toarray()"
      ],
      "execution_count": null,
      "outputs": []
    },
    {
      "cell_type": "code",
      "metadata": {
        "id": "vpIt0lLDWc6T",
        "colab": {
          "base_uri": "https://localhost:8080/"
        },
        "outputId": "06c1649e-bbfe-4238-bd3e-3a506e35188f"
      },
      "source": [
        "print(x_practice)\n",
        "print(x_practice.shape)"
      ],
      "execution_count": null,
      "outputs": [
        {
          "output_type": "stream",
          "text": [
            "[[0. 0. 0. ... 0. 0. 0.]\n",
            " [0. 0. 0. ... 0. 0. 0.]\n",
            " [0. 0. 0. ... 0. 0. 0.]\n",
            " ...\n",
            " [0. 0. 0. ... 0. 0. 0.]\n",
            " [0. 0. 0. ... 0. 0. 0.]\n",
            " [0. 0. 0. ... 0. 0. 0.]]\n",
            "(31831, 5710)\n"
          ],
          "name": "stdout"
        }
      ]
    },
    {
      "cell_type": "markdown",
      "metadata": {
        "id": "jAGR7vrAWc6T"
      },
      "source": [
        "Here we generated a list with index values as 'word_i' where i is 0,1,2,3..... array.shape[1]. These will be useful for futher making a dataframe."
      ]
    },
    {
      "cell_type": "code",
      "metadata": {
        "tags": [],
        "id": "Un72wzx6Wc6U",
        "colab": {
          "base_uri": "https://localhost:8080/"
        },
        "outputId": "417c6115-cebd-4de4-b91a-eb039ade2def"
      },
      "source": [
        "# for getting dictinory keys\n",
        "\n",
        "ar = []\n",
        "\n",
        "for i in range(0,1):\n",
        "\tar.append([])\n",
        " \n",
        "#print(len(ar))\n",
        "\n",
        "for i in range(x_practice.shape[1]):\n",
        "  ar[0].append('word_'+str(i))\n",
        "\n",
        "print(len(ar[0]))"
      ],
      "execution_count": null,
      "outputs": [
        {
          "output_type": "stream",
          "text": [
            "5710\n"
          ],
          "name": "stdout"
        }
      ]
    },
    {
      "cell_type": "markdown",
      "metadata": {
        "id": "pEGMNPbDWc6U"
      },
      "source": [
        "We created a dataframe with our weight list and index_values = ar. We did to make further process easier to understand."
      ]
    },
    {
      "cell_type": "code",
      "metadata": {
        "id": "U7gxZC2HWc6U"
      },
      "source": [
        "dataframe = pd.DataFrame(x_practice,columns=ar)"
      ],
      "execution_count": null,
      "outputs": []
    },
    {
      "cell_type": "code",
      "metadata": {
        "id": "urkdnvf1Wc6V",
        "colab": {
          "base_uri": "https://localhost:8080/",
          "height": 244
        },
        "outputId": "f4b6fa60-ac4e-4572-aa50-ae4147ada449"
      },
      "source": [
        "dataframe.head()"
      ],
      "execution_count": null,
      "outputs": [
        {
          "output_type": "execute_result",
          "data": {
            "text/html": [
              "<div>\n",
              "<style scoped>\n",
              "    .dataframe tbody tr th:only-of-type {\n",
              "        vertical-align: middle;\n",
              "    }\n",
              "\n",
              "    .dataframe tbody tr th {\n",
              "        vertical-align: top;\n",
              "    }\n",
              "\n",
              "    .dataframe thead tr th {\n",
              "        text-align: left;\n",
              "    }\n",
              "</style>\n",
              "<table border=\"1\" class=\"dataframe\">\n",
              "  <thead>\n",
              "    <tr>\n",
              "      <th></th>\n",
              "      <th>word_0</th>\n",
              "      <th>word_1</th>\n",
              "      <th>word_2</th>\n",
              "      <th>word_3</th>\n",
              "      <th>word_4</th>\n",
              "      <th>word_5</th>\n",
              "      <th>word_6</th>\n",
              "      <th>word_7</th>\n",
              "      <th>word_8</th>\n",
              "      <th>word_9</th>\n",
              "      <th>word_10</th>\n",
              "      <th>word_11</th>\n",
              "      <th>word_12</th>\n",
              "      <th>word_13</th>\n",
              "      <th>word_14</th>\n",
              "      <th>word_15</th>\n",
              "      <th>word_16</th>\n",
              "      <th>word_17</th>\n",
              "      <th>word_18</th>\n",
              "      <th>word_19</th>\n",
              "      <th>word_20</th>\n",
              "      <th>word_21</th>\n",
              "      <th>word_22</th>\n",
              "      <th>word_23</th>\n",
              "      <th>word_24</th>\n",
              "      <th>word_25</th>\n",
              "      <th>word_26</th>\n",
              "      <th>word_27</th>\n",
              "      <th>word_28</th>\n",
              "      <th>word_29</th>\n",
              "      <th>word_30</th>\n",
              "      <th>word_31</th>\n",
              "      <th>word_32</th>\n",
              "      <th>word_33</th>\n",
              "      <th>word_34</th>\n",
              "      <th>word_35</th>\n",
              "      <th>word_36</th>\n",
              "      <th>word_37</th>\n",
              "      <th>word_38</th>\n",
              "      <th>word_39</th>\n",
              "      <th>...</th>\n",
              "      <th>word_5670</th>\n",
              "      <th>word_5671</th>\n",
              "      <th>word_5672</th>\n",
              "      <th>word_5673</th>\n",
              "      <th>word_5674</th>\n",
              "      <th>word_5675</th>\n",
              "      <th>word_5676</th>\n",
              "      <th>word_5677</th>\n",
              "      <th>word_5678</th>\n",
              "      <th>word_5679</th>\n",
              "      <th>word_5680</th>\n",
              "      <th>word_5681</th>\n",
              "      <th>word_5682</th>\n",
              "      <th>word_5683</th>\n",
              "      <th>word_5684</th>\n",
              "      <th>word_5685</th>\n",
              "      <th>word_5686</th>\n",
              "      <th>word_5687</th>\n",
              "      <th>word_5688</th>\n",
              "      <th>word_5689</th>\n",
              "      <th>word_5690</th>\n",
              "      <th>word_5691</th>\n",
              "      <th>word_5692</th>\n",
              "      <th>word_5693</th>\n",
              "      <th>word_5694</th>\n",
              "      <th>word_5695</th>\n",
              "      <th>word_5696</th>\n",
              "      <th>word_5697</th>\n",
              "      <th>word_5698</th>\n",
              "      <th>word_5699</th>\n",
              "      <th>word_5700</th>\n",
              "      <th>word_5701</th>\n",
              "      <th>word_5702</th>\n",
              "      <th>word_5703</th>\n",
              "      <th>word_5704</th>\n",
              "      <th>word_5705</th>\n",
              "      <th>word_5706</th>\n",
              "      <th>word_5707</th>\n",
              "      <th>word_5708</th>\n",
              "      <th>word_5709</th>\n",
              "    </tr>\n",
              "  </thead>\n",
              "  <tbody>\n",
              "    <tr>\n",
              "      <th>0</th>\n",
              "      <td>0.0</td>\n",
              "      <td>0.0</td>\n",
              "      <td>0.0</td>\n",
              "      <td>0.0</td>\n",
              "      <td>0.0</td>\n",
              "      <td>0.0</td>\n",
              "      <td>0.0</td>\n",
              "      <td>0.0</td>\n",
              "      <td>0.0</td>\n",
              "      <td>0.0</td>\n",
              "      <td>0.0</td>\n",
              "      <td>0.0</td>\n",
              "      <td>0.0</td>\n",
              "      <td>0.0</td>\n",
              "      <td>0.0</td>\n",
              "      <td>0.0</td>\n",
              "      <td>0.0</td>\n",
              "      <td>0.0</td>\n",
              "      <td>0.0</td>\n",
              "      <td>0.0</td>\n",
              "      <td>0.0</td>\n",
              "      <td>0.0</td>\n",
              "      <td>0.0</td>\n",
              "      <td>0.0</td>\n",
              "      <td>0.0</td>\n",
              "      <td>0.0</td>\n",
              "      <td>0.0</td>\n",
              "      <td>0.0</td>\n",
              "      <td>0.0</td>\n",
              "      <td>0.0</td>\n",
              "      <td>0.0</td>\n",
              "      <td>0.0</td>\n",
              "      <td>0.0</td>\n",
              "      <td>0.0</td>\n",
              "      <td>0.0</td>\n",
              "      <td>0.0</td>\n",
              "      <td>0.0</td>\n",
              "      <td>0.0</td>\n",
              "      <td>0.0</td>\n",
              "      <td>0.0</td>\n",
              "      <td>...</td>\n",
              "      <td>0.0</td>\n",
              "      <td>0.0</td>\n",
              "      <td>0.0</td>\n",
              "      <td>0.0</td>\n",
              "      <td>0.0</td>\n",
              "      <td>0.0</td>\n",
              "      <td>0.0</td>\n",
              "      <td>0.0</td>\n",
              "      <td>0.0</td>\n",
              "      <td>0.0</td>\n",
              "      <td>0.0</td>\n",
              "      <td>0.0</td>\n",
              "      <td>0.0</td>\n",
              "      <td>0.0</td>\n",
              "      <td>0.0</td>\n",
              "      <td>0.0</td>\n",
              "      <td>0.0</td>\n",
              "      <td>0.0</td>\n",
              "      <td>0.0</td>\n",
              "      <td>0.0</td>\n",
              "      <td>0.0</td>\n",
              "      <td>0.0</td>\n",
              "      <td>0.0</td>\n",
              "      <td>0.0</td>\n",
              "      <td>0.0</td>\n",
              "      <td>0.0</td>\n",
              "      <td>0.0</td>\n",
              "      <td>0.0</td>\n",
              "      <td>0.0</td>\n",
              "      <td>0.0</td>\n",
              "      <td>0.0</td>\n",
              "      <td>0.0</td>\n",
              "      <td>0.0</td>\n",
              "      <td>0.0</td>\n",
              "      <td>0.0</td>\n",
              "      <td>0.0</td>\n",
              "      <td>0.0</td>\n",
              "      <td>0.0</td>\n",
              "      <td>0.0</td>\n",
              "      <td>0.0</td>\n",
              "    </tr>\n",
              "    <tr>\n",
              "      <th>1</th>\n",
              "      <td>0.0</td>\n",
              "      <td>0.0</td>\n",
              "      <td>0.0</td>\n",
              "      <td>0.0</td>\n",
              "      <td>0.0</td>\n",
              "      <td>0.0</td>\n",
              "      <td>0.0</td>\n",
              "      <td>0.0</td>\n",
              "      <td>0.0</td>\n",
              "      <td>0.0</td>\n",
              "      <td>0.0</td>\n",
              "      <td>0.0</td>\n",
              "      <td>0.0</td>\n",
              "      <td>0.0</td>\n",
              "      <td>0.0</td>\n",
              "      <td>0.0</td>\n",
              "      <td>0.0</td>\n",
              "      <td>0.0</td>\n",
              "      <td>0.0</td>\n",
              "      <td>0.0</td>\n",
              "      <td>0.0</td>\n",
              "      <td>0.0</td>\n",
              "      <td>0.0</td>\n",
              "      <td>0.0</td>\n",
              "      <td>0.0</td>\n",
              "      <td>0.0</td>\n",
              "      <td>0.0</td>\n",
              "      <td>0.0</td>\n",
              "      <td>0.0</td>\n",
              "      <td>0.0</td>\n",
              "      <td>0.0</td>\n",
              "      <td>0.0</td>\n",
              "      <td>0.0</td>\n",
              "      <td>0.0</td>\n",
              "      <td>0.0</td>\n",
              "      <td>0.0</td>\n",
              "      <td>0.0</td>\n",
              "      <td>0.0</td>\n",
              "      <td>0.0</td>\n",
              "      <td>0.0</td>\n",
              "      <td>...</td>\n",
              "      <td>0.0</td>\n",
              "      <td>0.0</td>\n",
              "      <td>0.0</td>\n",
              "      <td>0.0</td>\n",
              "      <td>0.0</td>\n",
              "      <td>0.0</td>\n",
              "      <td>0.0</td>\n",
              "      <td>0.0</td>\n",
              "      <td>0.0</td>\n",
              "      <td>0.0</td>\n",
              "      <td>0.0</td>\n",
              "      <td>0.0</td>\n",
              "      <td>0.0</td>\n",
              "      <td>0.0</td>\n",
              "      <td>0.0</td>\n",
              "      <td>0.0</td>\n",
              "      <td>0.0</td>\n",
              "      <td>0.0</td>\n",
              "      <td>0.0</td>\n",
              "      <td>0.0</td>\n",
              "      <td>0.0</td>\n",
              "      <td>0.0</td>\n",
              "      <td>0.0</td>\n",
              "      <td>0.0</td>\n",
              "      <td>0.0</td>\n",
              "      <td>0.0</td>\n",
              "      <td>0.0</td>\n",
              "      <td>0.0</td>\n",
              "      <td>0.0</td>\n",
              "      <td>0.0</td>\n",
              "      <td>0.0</td>\n",
              "      <td>0.0</td>\n",
              "      <td>0.0</td>\n",
              "      <td>0.0</td>\n",
              "      <td>0.0</td>\n",
              "      <td>0.0</td>\n",
              "      <td>0.0</td>\n",
              "      <td>0.0</td>\n",
              "      <td>0.0</td>\n",
              "      <td>0.0</td>\n",
              "    </tr>\n",
              "    <tr>\n",
              "      <th>2</th>\n",
              "      <td>0.0</td>\n",
              "      <td>0.0</td>\n",
              "      <td>0.0</td>\n",
              "      <td>0.0</td>\n",
              "      <td>0.0</td>\n",
              "      <td>0.0</td>\n",
              "      <td>0.0</td>\n",
              "      <td>0.0</td>\n",
              "      <td>0.0</td>\n",
              "      <td>0.0</td>\n",
              "      <td>0.0</td>\n",
              "      <td>0.0</td>\n",
              "      <td>0.0</td>\n",
              "      <td>0.0</td>\n",
              "      <td>0.0</td>\n",
              "      <td>0.0</td>\n",
              "      <td>0.0</td>\n",
              "      <td>0.0</td>\n",
              "      <td>0.0</td>\n",
              "      <td>0.0</td>\n",
              "      <td>0.0</td>\n",
              "      <td>0.0</td>\n",
              "      <td>0.0</td>\n",
              "      <td>0.0</td>\n",
              "      <td>0.0</td>\n",
              "      <td>0.0</td>\n",
              "      <td>0.0</td>\n",
              "      <td>0.0</td>\n",
              "      <td>0.0</td>\n",
              "      <td>0.0</td>\n",
              "      <td>0.0</td>\n",
              "      <td>0.0</td>\n",
              "      <td>0.0</td>\n",
              "      <td>0.0</td>\n",
              "      <td>0.0</td>\n",
              "      <td>0.0</td>\n",
              "      <td>0.0</td>\n",
              "      <td>0.0</td>\n",
              "      <td>0.0</td>\n",
              "      <td>0.0</td>\n",
              "      <td>...</td>\n",
              "      <td>0.0</td>\n",
              "      <td>0.0</td>\n",
              "      <td>0.0</td>\n",
              "      <td>0.0</td>\n",
              "      <td>0.0</td>\n",
              "      <td>0.0</td>\n",
              "      <td>0.0</td>\n",
              "      <td>0.0</td>\n",
              "      <td>0.0</td>\n",
              "      <td>0.0</td>\n",
              "      <td>0.0</td>\n",
              "      <td>0.0</td>\n",
              "      <td>0.0</td>\n",
              "      <td>0.0</td>\n",
              "      <td>0.0</td>\n",
              "      <td>0.0</td>\n",
              "      <td>0.0</td>\n",
              "      <td>0.0</td>\n",
              "      <td>0.0</td>\n",
              "      <td>0.0</td>\n",
              "      <td>0.0</td>\n",
              "      <td>0.0</td>\n",
              "      <td>0.0</td>\n",
              "      <td>0.0</td>\n",
              "      <td>0.0</td>\n",
              "      <td>0.0</td>\n",
              "      <td>0.0</td>\n",
              "      <td>0.0</td>\n",
              "      <td>0.0</td>\n",
              "      <td>0.0</td>\n",
              "      <td>0.0</td>\n",
              "      <td>0.0</td>\n",
              "      <td>0.0</td>\n",
              "      <td>0.0</td>\n",
              "      <td>0.0</td>\n",
              "      <td>0.0</td>\n",
              "      <td>0.0</td>\n",
              "      <td>0.0</td>\n",
              "      <td>0.0</td>\n",
              "      <td>0.0</td>\n",
              "    </tr>\n",
              "    <tr>\n",
              "      <th>3</th>\n",
              "      <td>0.0</td>\n",
              "      <td>0.0</td>\n",
              "      <td>0.0</td>\n",
              "      <td>0.0</td>\n",
              "      <td>0.0</td>\n",
              "      <td>0.0</td>\n",
              "      <td>0.0</td>\n",
              "      <td>0.0</td>\n",
              "      <td>0.0</td>\n",
              "      <td>0.0</td>\n",
              "      <td>0.0</td>\n",
              "      <td>0.0</td>\n",
              "      <td>0.0</td>\n",
              "      <td>0.0</td>\n",
              "      <td>0.0</td>\n",
              "      <td>0.0</td>\n",
              "      <td>0.0</td>\n",
              "      <td>0.0</td>\n",
              "      <td>0.0</td>\n",
              "      <td>0.0</td>\n",
              "      <td>0.0</td>\n",
              "      <td>0.0</td>\n",
              "      <td>0.0</td>\n",
              "      <td>0.0</td>\n",
              "      <td>0.0</td>\n",
              "      <td>0.0</td>\n",
              "      <td>0.0</td>\n",
              "      <td>0.0</td>\n",
              "      <td>0.0</td>\n",
              "      <td>0.0</td>\n",
              "      <td>0.0</td>\n",
              "      <td>0.0</td>\n",
              "      <td>0.0</td>\n",
              "      <td>0.0</td>\n",
              "      <td>0.0</td>\n",
              "      <td>0.0</td>\n",
              "      <td>0.0</td>\n",
              "      <td>0.0</td>\n",
              "      <td>0.0</td>\n",
              "      <td>0.0</td>\n",
              "      <td>...</td>\n",
              "      <td>0.0</td>\n",
              "      <td>0.0</td>\n",
              "      <td>0.0</td>\n",
              "      <td>0.0</td>\n",
              "      <td>0.0</td>\n",
              "      <td>0.0</td>\n",
              "      <td>0.0</td>\n",
              "      <td>0.0</td>\n",
              "      <td>0.0</td>\n",
              "      <td>0.0</td>\n",
              "      <td>0.0</td>\n",
              "      <td>0.0</td>\n",
              "      <td>0.0</td>\n",
              "      <td>0.0</td>\n",
              "      <td>0.0</td>\n",
              "      <td>0.0</td>\n",
              "      <td>0.0</td>\n",
              "      <td>0.0</td>\n",
              "      <td>0.0</td>\n",
              "      <td>0.0</td>\n",
              "      <td>0.0</td>\n",
              "      <td>0.0</td>\n",
              "      <td>0.0</td>\n",
              "      <td>0.0</td>\n",
              "      <td>0.0</td>\n",
              "      <td>0.0</td>\n",
              "      <td>0.0</td>\n",
              "      <td>0.0</td>\n",
              "      <td>0.0</td>\n",
              "      <td>0.0</td>\n",
              "      <td>0.0</td>\n",
              "      <td>0.0</td>\n",
              "      <td>0.0</td>\n",
              "      <td>0.0</td>\n",
              "      <td>0.0</td>\n",
              "      <td>0.0</td>\n",
              "      <td>0.0</td>\n",
              "      <td>0.0</td>\n",
              "      <td>0.0</td>\n",
              "      <td>0.0</td>\n",
              "    </tr>\n",
              "    <tr>\n",
              "      <th>4</th>\n",
              "      <td>0.0</td>\n",
              "      <td>0.0</td>\n",
              "      <td>0.0</td>\n",
              "      <td>0.0</td>\n",
              "      <td>0.0</td>\n",
              "      <td>0.0</td>\n",
              "      <td>0.0</td>\n",
              "      <td>0.0</td>\n",
              "      <td>0.0</td>\n",
              "      <td>0.0</td>\n",
              "      <td>0.0</td>\n",
              "      <td>0.0</td>\n",
              "      <td>0.0</td>\n",
              "      <td>0.0</td>\n",
              "      <td>0.0</td>\n",
              "      <td>0.0</td>\n",
              "      <td>0.0</td>\n",
              "      <td>0.0</td>\n",
              "      <td>0.0</td>\n",
              "      <td>0.0</td>\n",
              "      <td>0.0</td>\n",
              "      <td>0.0</td>\n",
              "      <td>0.0</td>\n",
              "      <td>0.0</td>\n",
              "      <td>0.0</td>\n",
              "      <td>0.0</td>\n",
              "      <td>0.0</td>\n",
              "      <td>0.0</td>\n",
              "      <td>0.0</td>\n",
              "      <td>0.0</td>\n",
              "      <td>0.0</td>\n",
              "      <td>0.0</td>\n",
              "      <td>0.0</td>\n",
              "      <td>0.0</td>\n",
              "      <td>0.0</td>\n",
              "      <td>0.0</td>\n",
              "      <td>0.0</td>\n",
              "      <td>0.0</td>\n",
              "      <td>0.0</td>\n",
              "      <td>0.0</td>\n",
              "      <td>...</td>\n",
              "      <td>0.0</td>\n",
              "      <td>0.0</td>\n",
              "      <td>0.0</td>\n",
              "      <td>0.0</td>\n",
              "      <td>0.0</td>\n",
              "      <td>0.0</td>\n",
              "      <td>0.0</td>\n",
              "      <td>0.0</td>\n",
              "      <td>0.0</td>\n",
              "      <td>0.0</td>\n",
              "      <td>0.0</td>\n",
              "      <td>0.0</td>\n",
              "      <td>0.0</td>\n",
              "      <td>0.0</td>\n",
              "      <td>0.0</td>\n",
              "      <td>0.0</td>\n",
              "      <td>0.0</td>\n",
              "      <td>0.0</td>\n",
              "      <td>0.0</td>\n",
              "      <td>0.0</td>\n",
              "      <td>0.0</td>\n",
              "      <td>0.0</td>\n",
              "      <td>0.0</td>\n",
              "      <td>0.0</td>\n",
              "      <td>0.0</td>\n",
              "      <td>0.0</td>\n",
              "      <td>0.0</td>\n",
              "      <td>0.0</td>\n",
              "      <td>0.0</td>\n",
              "      <td>0.0</td>\n",
              "      <td>0.0</td>\n",
              "      <td>0.0</td>\n",
              "      <td>0.0</td>\n",
              "      <td>0.0</td>\n",
              "      <td>0.0</td>\n",
              "      <td>0.0</td>\n",
              "      <td>0.0</td>\n",
              "      <td>0.0</td>\n",
              "      <td>0.0</td>\n",
              "      <td>0.0</td>\n",
              "    </tr>\n",
              "  </tbody>\n",
              "</table>\n",
              "<p>5 rows × 5710 columns</p>\n",
              "</div>"
            ],
            "text/plain": [
              "  word_0 word_1 word_2 word_3  ... word_5706 word_5707 word_5708 word_5709\n",
              "0    0.0    0.0    0.0    0.0  ...       0.0       0.0       0.0       0.0\n",
              "1    0.0    0.0    0.0    0.0  ...       0.0       0.0       0.0       0.0\n",
              "2    0.0    0.0    0.0    0.0  ...       0.0       0.0       0.0       0.0\n",
              "3    0.0    0.0    0.0    0.0  ...       0.0       0.0       0.0       0.0\n",
              "4    0.0    0.0    0.0    0.0  ...       0.0       0.0       0.0       0.0\n",
              "\n",
              "[5 rows x 5710 columns]"
            ]
          },
          "metadata": {
            "tags": []
          },
          "execution_count": 16
        }
      ]
    },
    {
      "cell_type": "code",
      "metadata": {
        "id": "tvW7uOkKWc6W",
        "colab": {
          "base_uri": "https://localhost:8080/"
        },
        "outputId": "da91e4e3-c5e2-42b2-a664-03e645ce9117"
      },
      "source": [
        "dataframe.shape"
      ],
      "execution_count": null,
      "outputs": [
        {
          "output_type": "execute_result",
          "data": {
            "text/plain": [
              "(31831, 5710)"
            ]
          },
          "metadata": {
            "tags": []
          },
          "execution_count": 17
        }
      ]
    },
    {
      "cell_type": "markdown",
      "metadata": {
        "id": "8KsQwYvpWc6X"
      },
      "source": [
        "### Linear Discriminant Analysis\n",
        "\n",
        "From here we will get one value as array.\n"
      ]
    },
    {
      "cell_type": "code",
      "metadata": {
        "id": "OVxDmbeAWc6X"
      },
      "source": [
        "lda=  LinearDiscriminantAnalysis()\n",
        "x_ld_prc = lda.fit(x_practice,Y)"
      ],
      "execution_count": null,
      "outputs": []
    },
    {
      "cell_type": "code",
      "metadata": {
        "id": "ugO9KcpMWc6Y"
      },
      "source": [
        "x_ld_prc = lda.transform(x_practice)"
      ],
      "execution_count": null,
      "outputs": []
    },
    {
      "cell_type": "code",
      "metadata": {
        "id": "MDmfrg6fWc6Y",
        "colab": {
          "base_uri": "https://localhost:8080/"
        },
        "outputId": "c703c3ea-8ab5-4430-d5f5-4add85bd3c9a"
      },
      "source": [
        "print(x_ld_prc.shape)"
      ],
      "execution_count": null,
      "outputs": [
        {
          "output_type": "stream",
          "text": [
            "(31831, 1)\n"
          ],
          "name": "stdout"
        }
      ]
    },
    {
      "cell_type": "markdown",
      "metadata": {
        "id": "6N4-e0AqeCNz"
      },
      "source": [
        "Model after LDA and Feature selection"
      ]
    },
    {
      "cell_type": "code",
      "metadata": {
        "id": "Hb2YDPFvgUVL"
      },
      "source": [
        "X_train, X_test, y_train, y_test = train_test_split(x_ld_prc, Y, test_size=0.2, random_state=42)"
      ],
      "execution_count": null,
      "outputs": []
    },
    {
      "cell_type": "code",
      "metadata": {
        "colab": {
          "base_uri": "https://localhost:8080/"
        },
        "id": "wBfOjgYohhI4",
        "outputId": "d17517c6-2110-4f72-dd98-f338610bdbce"
      },
      "source": [
        "clf = MLPClassifier(hidden_layer_sizes=(400),learning_rate_init=0.002, momentum=0.87,max_iter=500)\n",
        "clf.fit(X_train, y_train)\n",
        "\n",
        "model_Evaluate(clf)"
      ],
      "execution_count": null,
      "outputs": [
        {
          "output_type": "stream",
          "text": [
            "Accuracy of model on training data : 81.93528118127553\n",
            "Accuracy of model on testing data : 82.11088424689807 \n",
            "\n"
          ],
          "name": "stdout"
        }
      ]
    }
  ]
}